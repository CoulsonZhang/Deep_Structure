{
 "cells": [
  {
   "cell_type": "markdown",
   "metadata": {},
   "source": [
    "This is the jupyter notebook to store the code and share the comment / ideas when implmenting the program\n"
   ]
  },
  {
   "cell_type": "code",
   "execution_count": null,
   "metadata": {},
   "outputs": [],
   "source": [
    "def findnext(start):\n",
    "    # start = 'https://mathscinet.ams.org//mathscinet/search/publications.html?arg3=&co4=AND&co5=AND&co6=AND&co7=AND&dr=all&pg4=AUCN&pg5=TI&pg6=PC&pg7=SE&pg8=ET&review_format=pdf&s4=Kleinberg%2C%20Jon&s5=&s6=&s7=&s8=All&sort=Newest&vfpref=pdf&yearRangeFirst=&yearRangeSecond=&yrop=eq&r=81'\n",
    "    data = requests.get(start).content\n",
    "\n",
    "    content = BeautifulSoup(data, 'html.parser')\n",
    "    # Matches = content.find('div', {\"class\": \"matches\"}).get_text().replace('\\n', '')\n",
    "    # match_num = re.sub(r'\\D', \"\", Matches)\n",
    "\n",
    "    pages = content.find('div', {\"class\": \"navbar\"})\n",
    "\n",
    "    if not pages or len(pages) == 1:  # No next page button\n",
    "        # print(\"No next page! gg bro!\")\n",
    "        return False, None\n",
    "    else:\n",
    "        currnum = pages.find('span', {\"class\": \"CurrentPage\"}).get_text()\n",
    "        nextnum = pages.findAll('span', {\"class\": \"PageLink\"})[-1].get_text()\n",
    "\n",
    "        print('curr page is: {}\\n curr url is:\\n{}\\n\\n'.format(currnum, start))\n",
    "\n",
    "        if nextnum < currnum:\n",
    "            # print(\"End of pages bro, time to stop\")\n",
    "            return False, None\n",
    "        else:\n",
    "            next = pages.findAll('span', {\"class\": \"PageLink\"})[-1]\n",
    "            link = 'https://mathscinet.ams.org/' + next.find('a', href=True)['href']\n",
    "            # print(link)\n",
    "            return True, link\n",
    "\n",
    "\n",
    "def fetch(url):\n",
    "    data = requests.get(url).content\n",
    "\n",
    "    content = BeautifulSoup(data, 'html.parser')\n",
    "    # Matches = content.find('div', {\"class\": \"matches\"}).get_text().replace('\\n', '')\n",
    "    # match_num = re.sub(r'\\D', \"\", Matches)\n",
    "    # idx = 0\n",
    "    papers = dict()\n",
    "\n",
    "    heads = content.findAll('div', {\"class\": \"headline\"})\n",
    "    for head in heads:\n",
    "        title = head.find('span', {\"class\": \"title\"}).getText()\n",
    "        ele = head.find('a', {\"class\": \"item_status\"}).getText()\n",
    "        # print(head.getText().replace('\\n','').split(ele))\n",
    "        authors = head.getText().replace('\\n', '').split(ele)[1:][0]\n",
    "        authors = authors.split(title)[:-1][0]\n",
    "        names = []\n",
    "        for author in authors.split(';'):\n",
    "            name = author.strip()\n",
    "            if name:\n",
    "                names.append(name)\n",
    "        papers[title] = names\n",
    "#write current info\n",
    "    with open('tittle,author.txt', 'a') as file:\n",
    "        for k in papers:\n",
    "            file.write('Title:\\n{}\\nAuthor(s):\\n{}\\n\\n'.format(k, papers[k]))\n",
    "#continue for future work\n",
    "    next, next_url = findnext(url)\n",
    "    if next:\n",
    "        fetch(next_url)\n",
    "        #next_paper = fetch(next_url)\n",
    "        #next_paper.update(papers)\n",
    "\n",
    "    # return  papers\n"
   ]
  },
  {
   "cell_type": "code",
   "execution_count": null,
   "metadata": {},
   "outputs": [],
   "source": [
    "url = 'https://mathscinet.ams.org/mathscinet/search/publications.html?arg3=&co4=AND&co5=AND&co6=AND&co7=AND&dr=all&pg4=AUCN&pg5=TI&pg6=PC&pg7=SE&pg8=ET&review_format=pdf&s4=&s5=&s6=13&s7=&s8=All&sort=Newest&vfpref=pdf&yearRangeFirst=&yearRangeSecond=&yrop=eq&r=2061'\n",
    "fetch(url)"
   ]
  }
 ],
 "metadata": {
  "kernelspec": {
   "display_name": "Python 3",
   "language": "python",
   "name": "python3"
  },
  "language_info": {
   "codemirror_mode": {
    "name": "ipython",
    "version": 2
   },
   "file_extension": ".py",
   "mimetype": "text/x-python",
   "name": "python",
   "nbconvert_exporter": "python",
   "pygments_lexer": "ipython2",
   "version": "3.7.7"
  }
 },
 "nbformat": 4,
 "nbformat_minor": 0
}
