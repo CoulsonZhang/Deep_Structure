{
 "cells": [
  {
   "cell_type": "code",
   "execution_count": 34,
   "metadata": {},
   "outputs": [],
   "source": [
    "import numpy as np\n",
    "import scipy\n",
    "import ujson\n",
    "import os\n",
    "import pandas as pd\n",
    "from scipy import sparse\n",
    "from scipy.sparse import linalg\n"
   ]
  },
  {
   "cell_type": "code",
   "execution_count": 7,
   "metadata": {},
   "outputs": [],
   "source": [
    "data_dir = \"../data/\"\n",
    "f_collab_distance = os.path.join(data_dir, \"collaboration_distances.csv\")\n",
    "df_collab_distance = pd.read_csv(f_collab_distance)\n",
    "faculties = list(df_collab_distance.columns)    # Obtain a list of facauty names\n",
    "faculties.pop(0)\n",
    "num_ppl = len(faculties)\n",
    "pass"
   ]
  },
  {
   "cell_type": "markdown",
   "metadata": {},
   "source": [
    "## Citation data"
   ]
  },
  {
   "cell_type": "markdown",
   "metadata": {},
   "source": [
    "#### Read data from json file to sparse matrix"
   ]
  },
  {
   "cell_type": "code",
   "execution_count": 8,
   "metadata": {},
   "outputs": [],
   "source": [
    "f_citation = os.path.join(data_dir, \"cite_pool.json\")\n",
    "with open(f_citation) as file:\n",
    "    citations = ujson.load(file)\n",
    "    pass\n",
    "\n",
    "last_person = \"\"\n",
    "n_col = 0\n",
    "for key, val in citations.items():\n",
    "    cur = key.split(\"'\")[1]\n",
    "    if last_person != cur and n_col > 0:\n",
    "        print(n_col)\n",
    "        break\n",
    "\n",
    "    last_person = cur\n",
    "    n_col += 1\n",
    "\n",
    "\n",
    "data = scipy.sparse.lil_matrix((num_ppl, n_col), dtype=\"double\")\n",
    "\n",
    "i = 0\n",
    "j = 0\n",
    "for key, val in citations.items():\n",
    "    if (j >= n_col):\n",
    "        i += 1\n",
    "        j = 0\n",
    "    \n",
    "    data[i, j] = val\n",
    "\n",
    "    j += 1\n",
    "\n",
    "data = data.tocsr()"
   ]
  },
  {
   "cell_type": "markdown",
   "metadata": {},
   "source": [
    "#### Perform partial SVD to compute the largest k singular values"
   ]
  },
  {
   "cell_type": "code",
   "execution_count": 1,
   "metadata": {},
   "outputs": [
    {
     "ename": "NameError",
     "evalue": "name 'scipy' is not defined",
     "output_type": "error",
     "traceback": [
      "\u001b[0;31m---------------------------------------------------------------------------\u001b[0m",
      "\u001b[0;31mNameError\u001b[0m                                 Traceback (most recent call last)",
      "Input \u001b[0;32mIn [1]\u001b[0m, in \u001b[0;36m<cell line: 1>\u001b[0;34m()\u001b[0m\n\u001b[0;32m----> 1\u001b[0m U, S, Vt \u001b[38;5;241m=\u001b[39m \u001b[43mscipy\u001b[49m\u001b[38;5;241m.\u001b[39msparse\u001b[38;5;241m.\u001b[39mlinalg\u001b[38;5;241m.\u001b[39msvds(data, k\u001b[38;5;241m=\u001b[39m\u001b[38;5;241m30\u001b[39m)\n\u001b[1;32m      2\u001b[0m S\n",
      "\u001b[0;31mNameError\u001b[0m: name 'scipy' is not defined"
     ]
    }
   ],
   "source": [
    "U, S, Vt = scipy.sparse.linalg.svds(data, k=30)\n",
    "S"
   ]
  }
 ],
 "metadata": {
  "kernelspec": {
   "display_name": "igl",
   "language": "python",
   "name": "igl"
  },
  "language_info": {
   "codemirror_mode": {
    "name": "ipython",
    "version": 3
   },
   "file_extension": ".py",
   "mimetype": "text/x-python",
   "name": "python",
   "nbconvert_exporter": "python",
   "pygments_lexer": "ipython3",
   "version": "3.9.8"
  }
 },
 "nbformat": 4,
 "nbformat_minor": 2
}
