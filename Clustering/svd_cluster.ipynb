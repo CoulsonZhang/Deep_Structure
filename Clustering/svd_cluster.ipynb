{
 "cells": [
  {
   "cell_type": "code",
   "execution_count": 34,
   "metadata": {},
   "outputs": [],
   "source": [
    "import numpy as np\n",
    "import scipy\n",
    "import ujson\n",
    "import os\n",
    "import pandas as pd\n",
    "from scipy import sparse\n",
    "from scipy.sparse import linalg\n"
   ]
  },
  {
   "cell_type": "code",
   "execution_count": 7,
   "metadata": {},
   "outputs": [],
   "source": [
    "data_dir = \"../data/\"\n",
    "f_collab_distance = os.path.join(data_dir, \"collaboration_distances.csv\")\n",
    "df_collab_distance = pd.read_csv(f_collab_distance)\n",
    "faculties = list(df_collab_distance.columns)    # Obtain a list of facauty names\n",
    "faculties.pop(0)\n",
    "num_ppl = len(faculties)\n",
    "pass"
   ]
  },
  {
   "cell_type": "markdown",
   "metadata": {},
   "source": [
    "## Citation data"
   ]
  },
  {
   "cell_type": "markdown",
   "metadata": {},
   "source": [
    "#### Read data from json file to sparse matrix"
   ]
  },
  {
   "cell_type": "code",
   "execution_count": 8,
   "metadata": {},
   "outputs": [],
   "source": [
    "f_citation = os.path.join(data_dir, \"cite_pool.json\")\n",
    "with open(f_citation) as file:\n",
    "    citations = ujson.load(file)\n",
    "    pass\n",
    "\n",
    "last_person = \"\"\n",
    "n_col = 0\n",
    "for key, val in citations.items():\n",
    "    cur = key.split(\"'\")[1]\n",
    "    if last_person != cur and n_col > 0:\n",
    "        print(n_col)\n",
    "        break\n",
    "\n",
    "    last_person = cur\n",
    "    n_col += 1\n",
    "\n",
    "\n",
    "data = scipy.sparse.lil_matrix((num_ppl, n_col), dtype=\"double\")\n",
    "\n",
    "i = 0\n",
    "j = 0\n",
    "for key, val in citations.items():\n",
    "    if (j >= n_col):\n",
    "        i += 1\n",
    "        j = 0\n",
    "    \n",
    "    data[i, j] = val\n",
    "\n",
    "    j += 1\n",
    "\n",
    "data = data.tocsr()"
   ]
  },
  {
   "cell_type": "markdown",
   "metadata": {},
   "source": [
    "#### Perform partial SVD to compute the largest k singular values"
   ]
  },
  {
   "cell_type": "code",
   "execution_count": 40,
   "metadata": {},
   "outputs": [
    {
     "name": "stdout",
     "output_type": "stream",
     "text": [
      "[ 5.84161925  6.0053257   6.244998    6.30129134  6.32111062  6.44696062\n",
      "  6.4776567   6.78232998  6.88955812  7.07106781  7.07106781  7.09452647\n",
      "  7.17228767  7.41606373  7.61577311  7.92904011  8.12164906  8.1859436\n",
      "  8.24621125  8.40460121  9.16515139  9.23550988  9.52310207 10.00151444\n",
      " 10.14889157 11.15511984 12.08304597 12.65649634 17.60150847 18.37797747]\n"
     ]
    }
   ],
   "source": [
    "U, S, Vt = scipy.sparse.linalg.svds(data, k=30)\n",
    "print(S)"
   ]
  }
 ],
 "metadata": {
  "kernelspec": {
   "display_name": "igl",
   "language": "python",
   "name": "igl"
  },
  "language_info": {
   "codemirror_mode": {
    "name": "ipython",
    "version": 3
   },
   "file_extension": ".py",
   "mimetype": "text/x-python",
   "name": "python",
   "nbconvert_exporter": "python",
   "pygments_lexer": "ipython3",
   "version": "3.9.8"
  },
  "orig_nbformat": 4
 },
 "nbformat": 4,
 "nbformat_minor": 2
}
