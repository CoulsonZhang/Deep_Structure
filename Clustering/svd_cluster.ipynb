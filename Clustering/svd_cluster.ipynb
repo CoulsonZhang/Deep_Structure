{
 "cells": [
  {
   "cell_type": "code",
   "execution_count": 2,
   "metadata": {},
   "outputs": [],
   "source": [
    "import numpy as np\n",
    "import scipy\n",
    "import ujson\n",
    "import os\n",
    "import pandas as pd\n",
    "from scipy import sparse\n",
    "from scipy.sparse import linalg\n",
    "from matplotlib import pyplot as plt\n"
   ]
  },
  {
   "cell_type": "code",
   "execution_count": 3,
   "metadata": {},
   "outputs": [],
   "source": [
    "data_dir = \"../data/\"\n",
    "f_collab_distance = os.path.join(data_dir, \"collaboration_distances.csv\")\n",
    "df_collab_distance = pd.read_csv(f_collab_distance)\n",
    "faculties = list(df_collab_distance.columns)    # Obtain a list of facauty names\n",
    "faculties.pop(0)\n",
    "num_ppl = len(faculties)\n",
    "pass"
   ]
  },
  {
   "cell_type": "markdown",
   "metadata": {},
   "source": [
    "## Citation data"
   ]
  },
  {
   "cell_type": "markdown",
   "metadata": {},
   "source": [
    "#### Read data from json file to sparse matrix"
   ]
  },
  {
   "cell_type": "code",
   "execution_count": 13,
   "metadata": {},
   "outputs": [],
   "source": [
    "############## Citation #####################\n",
    "f_citation = os.path.join(data_dir, \"cite_pool.json\")\n",
    "with open(f_citation) as file:\n",
    "    citations = ujson.load(file)\n",
    "    pass\n",
    "\n",
    "last_person = \"\"\n",
    "n_col = 0\n",
    "for key, val in citations.items():\n",
    "    cur = key.split(\"'\")[1]\n",
    "    if last_person != cur and n_col > 0:\n",
    "        break\n",
    "\n",
    "    last_person = cur\n",
    "    n_col += 1\n",
    "\n",
    "\n",
    "data_citation = scipy.sparse.lil_matrix((num_ppl, n_col), dtype=\"double\")\n",
    "\n",
    "i = 0\n",
    "j = 0\n",
    "for key, val in citations.items():\n",
    "    if (j >= n_col):\n",
    "        i += 1\n",
    "        j = 0\n",
    "    \n",
    "    data_citation[i, j] = val\n",
    "\n",
    "    j += 1\n",
    "\n",
    "data_citation = data_citation.tocsr()\n",
    "\n",
    "#################################### Classification #####################\n",
    "f_classification = os.path.join(data_dir, \"classification_code_matrix.csv\")\n",
    "df_classification = pd.read_csv(f_classification)\n",
    "classification = df_classification.to_numpy()[:, 1:].astype(np.float64)\n",
    "data_classification = scipy.sparse.csr_array(data_citation)\n"
   ]
  },
  {
   "cell_type": "markdown",
   "metadata": {},
   "source": [
    "#### Perform partial SVD to compute the largest k singular values"
   ]
  },
  {
   "cell_type": "markdown",
   "metadata": {},
   "source": [
    "#### Citation Data"
   ]
  },
  {
   "cell_type": "code",
   "execution_count": 14,
   "metadata": {},
   "outputs": [
    {
     "data": {
      "text/plain": [
       "[<matplotlib.lines.Line2D at 0x7faf798450d0>]"
      ]
     },
     "execution_count": 14,
     "metadata": {},
     "output_type": "execute_result"
    },
    {
     "data": {
      "image/png": "[encoded data removed]",
      "text/plain": [
       "<Figure size 432x288 with 1 Axes>"
      ]
     },
     "metadata": {
      "needs_background": "light"
     },
     "output_type": "display_data"
    }
   ],
   "source": [
    "U, S, Vt = scipy.sparse.linalg.svds(data_citation, k=30)\n",
    "plt.plot(np.flip(S))"
   ]
  },
  {
   "cell_type": "markdown",
   "metadata": {},
   "source": [
    "#### Classification Data"
   ]
  },
  {
   "cell_type": "code",
   "execution_count": 15,
   "metadata": {},
   "outputs": [
    {
     "data": {
      "text/plain": [
       "[<matplotlib.lines.Line2D at 0x7faf7b503c70>]"
      ]
     },
     "execution_count": 15,
     "metadata": {},
     "output_type": "execute_result"
    },
    {
     "data": {
      "image/png": "[encoded data removed]",
      "text/plain": [
       "<Figure size 432x288 with 1 Axes>"
      ]
     },
     "metadata": {
      "needs_background": "light"
     },
     "output_type": "display_data"
    }
   ],
   "source": [
    "U, S, Vt = scipy.sparse.linalg.svds(data_classification, k=30)\n",
    "plt.plot(np.flip(S))"
   ]
  }
 ],
 "metadata": {
  "kernelspec": {
   "display_name": "igl",
   "language": "python",
   "name": "igl"
  },
  "language_info": {
   "codemirror_mode": {
    "name": "ipython",
    "version": 3
   },
   "file_extension": ".py",
   "mimetype": "text/x-python",
   "name": "python",
   "nbconvert_exporter": "python",
   "pygments_lexer": "ipython3",
   "version": "3.9.8"
  }
 },
 "nbformat": 4,
 "nbformat_minor": 2
}
