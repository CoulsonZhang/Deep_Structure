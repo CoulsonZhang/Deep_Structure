{
 "cells": [
  {
   "cell_type": "code",
   "execution_count": 1,
   "id": "7c077d77",
   "metadata": {},
   "outputs": [],
   "source": [
    "import numpy as np\n",
    "from sklearn.cluster import AgglomerativeClustering\n",
    "import matplotlib.pyplot as plt\n",
    "import scipy as sp\n",
    "import pandas as pd\n",
    "from scipy.cluster.hierarchy import dendrogram\n",
    "from Bio import Phylo\n"
   ]
  },
  {
   "cell_type": "code",
   "execution_count": 2,
   "id": "e5c0bb94",
   "metadata": {},
   "outputs": [],
   "source": [
    "def plot_dendrogram(distance_matrix, labels, linkage=\"single\",\n",
    "                    truncate_level=-1, figure_size=(20, 15),\n",
    "                    dpi=300, savefig=False, fig_name=\"output.png\"):\n",
    "    \n",
    "    cl = AgglomerativeClustering(distance_threshold=0, n_clusters=None, affinity='precomputed',\n",
    "                                 compute_full_tree=True, linkage=linkage, compute_distances=True)\n",
    "    cl.fit(distance_matrix)\n",
    "    \n",
    "    kwarg = {\"truncate_mode\": \"level\", \"p\": truncate_level, \"orientation\": \"right\", \"labels\": labels}\n",
    "    \n",
    "    n_samples = len(cl.labels_)\n",
    "    counts = np.zeros(cl.children_.shape[0])\n",
    "    plt.figure(figsize=figure_size, dpi=dpi)\n",
    "    for i, merge in enumerate(cl.children_):\n",
    "        current_count = 0\n",
    "        for child_idx in merge:\n",
    "            if child_idx < n_samples:\n",
    "                current_count += 1  # leaf node\n",
    "            else:\n",
    "                current_count += counts[child_idx - n_samples]\n",
    "        counts[i] = current_count\n",
    "\n",
    "        linkage_matrix = np.column_stack(\n",
    "            [cl.children_, cl.distances_, counts]\n",
    "        ).astype(float)\n",
    "        dendrogram(linkage_matrix, **kwarg)\n",
    "        pass\n",
    "    \n",
    "    if savefig is True:\n",
    "        plt.savefig(fig_name)\n",
    "        "
   ]
  },
  {
   "cell_type": "code",
   "execution_count": 12,
   "id": "e3cde75a",
   "metadata": {},
   "outputs": [
    {
     "data": {
      "image/png": "[encoded data removed]",
      "text/plain": [
       "<Figure size 432x288 with 1 Axes>"
      ]
     },
     "metadata": {
      "needs_background": "light"
     },
     "output_type": "display_data"
    }
   ],
   "source": [
    "distance = np.array([[0, 1, 4],\n",
    "                     [0, 0, 3],\n",
    "                     [0, 0, 0]])\n",
    "distance += distance.T\n",
    "plot_dendrogram(distance, ['A', 'B', 'C'], figure_size=None, dpi=None)"
   ]
  },
  {
   "cell_type": "code",
   "execution_count": 23,
   "id": "1db73b31",
   "metadata": {},
   "outputs": [
    {
     "name": "stdout",
     "output_type": "stream",
     "text": [
      "[[0 1]\n",
      " [2 3]]\n",
      "[1. 3.]\n"
     ]
    }
   ],
   "source": [
    "cluster = AgglomerativeClustering(distance_threshold=0, n_clusters=None, affinity='precomputed',\n",
    "                                 compute_full_tree=True, linkage=\"single\", compute_distances=True)\n",
    "cluster.fit(distance)\n",
    "print(cluster.children_)\n",
    "print(cluster.distances_)"
   ]
  }
 ],
 "metadata": {
  "kernelspec": {
   "display_name": "igl",
   "language": "python",
   "name": "igl"
  },
  "language_info": {
   "codemirror_mode": {
    "name": "ipython",
    "version": 3
   },
   "file_extension": ".py",
   "mimetype": "text/x-python",
   "name": "python",
   "nbconvert_exporter": "python",
   "pygments_lexer": "ipython3",
   "version": "3.9.8"
  }
 },
 "nbformat": 4,
 "nbformat_minor": 5
}
