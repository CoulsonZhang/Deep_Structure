{
 "cells": [
  {
   "cell_type": "code",
   "execution_count": 1,
   "id": "e76f0ab6",
   "metadata": {},
   "outputs": [],
   "source": [
    "import numpy as np\n",
    "from sklearn.cluster import AgglomerativeClustering\n",
    "import matplotlib.pyplot as plt\n",
    "import scipy as sp\n",
    "import pandas as pd\n",
    "from scipy.cluster.hierarchy import dendrogram\n",
    "from Bio import Phylo\n",
    "from Bio.Cluster import treecluster\n",
    "from Bio.Phylo import Consensus\n",
    "import os\n",
    "import ujson\n",
    "from Bio.Phylo.TreeConstruction import DistanceTreeConstructor\n",
    "from Bio import Phylo"
   ]
  },
  {
   "cell_type": "markdown",
   "id": "ca4960da",
   "metadata": {},
   "source": [
    "### Convert distance matrix in NumPy array to a Bio.Phylo.TreeConstruction.DistanceMatrix object"
   ]
  },
  {
   "cell_type": "code",
   "execution_count": 4,
   "id": "68def7e3",
   "metadata": {},
   "outputs": [],
   "source": [
    "from Bio.Phylo.TreeConstruction import DistanceMatrix\n",
    "\n",
    "def phylo_dmatrix_from_numpy(labels, distance_mat):\n",
    "    dist_list = []\n",
    "    for i in range(distance_mat.shape[0]):\n",
    "        nested = []\n",
    "        for j in range(i + 1):\n",
    "            nested.append(distance_mat[i, j])\n",
    "            pass\n",
    "\n",
    "        dist_list.append(nested)\n",
    "        pass\n",
    "\n",
    "    phylo_dmatrix = DistanceMatrix(labels, matrix=dist_list)\n",
    "    return phylo_dmatrix"
   ]
  },
  {
   "cell_type": "markdown",
   "id": "413f1453",
   "metadata": {},
   "source": [
    "### Distance Function"
   ]
  },
  {
   "cell_type": "code",
   "execution_count": 27,
   "id": "b143b751",
   "metadata": {},
   "outputs": [],
   "source": [
    "def d1(similarity: np.ndarray, r: float =2.0) -> np.ndarray:\n",
    "    np.fill_diagonal(similarity, 0)\n",
    "    ret = 1/np.power(r, similarity)\n",
    "    np.fill_diagonal(ret, 0)\n",
    "    return ret"
   ]
  },
  {
   "cell_type": "markdown",
   "id": "80f9b332",
   "metadata": {},
   "source": [
    "### Obtain all the distance matrices from different datasets"
   ]
  },
  {
   "cell_type": "code",
   "execution_count": 9,
   "id": "476a6ae3",
   "metadata": {},
   "outputs": [],
   "source": [
    "data_dir = \"../data/\"\n",
    "f_collab_distance = os.path.join(data_dir, \"collaboration_distances.csv\")\n",
    "df_collab_distance = pd.read_csv(f_collab_distance)\n",
    "faculties = list(df_collab_distance.columns)    # Obtain a list of facauty names\n",
    "faculties.pop(0)\n",
    "num_ppl = len(faculties)\n",
    "pass"
   ]
  },
  {
   "cell_type": "code",
   "execution_count": 38,
   "id": "5858f60d",
   "metadata": {},
   "outputs": [],
   "source": [
    "dmatrices = []    # List of distance matrices"
   ]
  },
  {
   "cell_type": "code",
   "execution_count": 39,
   "id": "9576f496",
   "metadata": {},
   "outputs": [],
   "source": [
    "# Joint Publication\n",
    "\n",
    "f_joint_pub = os.path.join(data_dir, \"joint_publication.json\")\n",
    "with open(f_joint_pub) as file:\n",
    "    d_joint_pub = ujson.load(file)\n",
    "    pass\n",
    "\n",
    "sim_joint_pub = np.zeros((num_ppl, num_ppl))\n",
    "i = 0\n",
    "j = 1\n",
    "for key, val in d_joint_pub.items():\n",
    "    sim_joint_pub[i, j] = val\n",
    "    j += 1\n",
    "    if j == num_ppl:\n",
    "        i += 1\n",
    "        j = i + 1\n",
    "        pass\n",
    "    pass\n",
    "\n",
    "sim_joint_pub += sim_joint_pub.T\n",
    "dist_joint_pub = d1(sim_joint_pub)\n",
    "dmatrices.append(dist_joint_pub)"
   ]
  },
  {
   "cell_type": "code",
   "execution_count": 40,
   "id": "7c386ab7",
   "metadata": {},
   "outputs": [],
   "source": [
    "f_joint_cite = os.path.join(data_dir, \"citation_joint.json\")\n",
    "with open(f_joint_cite) as file:\n",
    "    d_joint_cite = ujson.load(file)\n",
    "    pass\n",
    "\n",
    "sim_joint_cite = np.zeros((num_ppl, num_ppl))\n",
    "i = 0\n",
    "j = 1\n",
    "for key, val in d_joint_cite.items():\n",
    "    sim_joint_cite[i, j] = val\n",
    "    j += 1\n",
    "    if j == num_ppl:\n",
    "        i += 1\n",
    "        j = i + 1\n",
    "        pass\n",
    "    pass\n",
    "\n",
    "sim_joint_cite += sim_joint_cite.T\n",
    "dist_joint_cite = d1(sim_joint_cite)\n",
    "dmatrices.append(dist_joint_cite)"
   ]
  },
  {
   "cell_type": "code",
   "execution_count": 41,
   "id": "4400b5fa",
   "metadata": {},
   "outputs": [],
   "source": [
    "f_dir_cite = os.path.join(data_dir, \"citation_directed.json\")\n",
    "with open(f_dir_cite) as file:\n",
    "    d_dir_cite = ujson.load(file)\n",
    "    pass\n",
    "\n",
    "sim_dir_cite = np.zeros((num_ppl, num_ppl))\n",
    "i = 0\n",
    "j = 0\n",
    "for key, val in d_dir_cite.items():\n",
    "    sim_dir_cite[i, j] = val\n",
    "    \n",
    "    j += 1\n",
    "    if j == num_ppl:\n",
    "        i += 1\n",
    "        j = 0\n",
    "        pass\n",
    "    pass\n",
    "\n",
    "sim_dir_cite += sim_dir_cite.T\n",
    "dist_dir_cite = d1(sim_dir_cite)\n",
    "dmatrices.append(dist_dir_cite)"
   ]
  },
  {
   "cell_type": "code",
   "execution_count": 42,
   "id": "cca47d68",
   "metadata": {},
   "outputs": [],
   "source": [
    "f_com_journal = os.path.join(data_dir, \"common_journals_.csv\")\n",
    "df_com_journals = pd.read_csv(f_com_journal)\n",
    "sim_com_journals = df_com_journals[faculties].to_numpy()\n",
    "dist_com_journals = d1(sim_com_journals)\n",
    "dmatrices.append(dist_com_journals)"
   ]
  },
  {
   "cell_type": "code",
   "execution_count": 43,
   "id": "1d3bf6c3",
   "metadata": {},
   "outputs": [],
   "source": [
    "f_com_ref = os.path.join(data_dir, \"common_references_.csv\")\n",
    "df_com_ref = pd.read_csv(f_com_ref)\n",
    "sim_com_ref = df_com_ref[faculties].to_numpy()\n",
    "dist_com_ref = d1(sim_com_ref)\n",
    "dmatrices.append(dist_com_ref)"
   ]
  },
  {
   "cell_type": "markdown",
   "id": "0ca65d46",
   "metadata": {},
   "source": [
    "### Convert all the numpy distance matrices to phylo DistanceMatrix objects"
   ]
  },
  {
   "cell_type": "code",
   "execution_count": 45,
   "id": "77609ff9",
   "metadata": {},
   "outputs": [],
   "source": [
    "phylo_dmatrices = []\n",
    "\n",
    "for dmat in dmatrices:\n",
    "    phylo_dmatrices.append(phylo_dmatrix_from_numpy(faculties, dmat))\n"
   ]
  },
  {
   "cell_type": "markdown",
   "id": "42406011",
   "metadata": {},
   "source": [
    "### Construct phylo trees"
   ]
  },
  {
   "cell_type": "code",
   "execution_count": 47,
   "id": "24f7ec85",
   "metadata": {},
   "outputs": [],
   "source": [
    "constructor = DistanceTreeConstructor(distance_calculator=None, method='upgma')\n",
    "phylo_trees = []\n",
    "\n",
    "for dmat in phylo_dmatrices:\n",
    "    phylo_trees.append(constructor.upgma(dmat))\n"
   ]
  },
  {
   "cell_type": "code",
   "execution_count": null,
   "id": "fbe3a4e8",
   "metadata": {},
   "outputs": [],
   "source": []
  },
  {
   "cell_type": "code",
   "execution_count": 50,
   "id": "afb3489b",
   "metadata": {},
   "outputs": [],
   "source": [
    "consensus_tree = Consensus.majority_consensus(phylo_trees, cutoff=0.5)"
   ]
  }
 ],
 "metadata": {
  "kernelspec": {
   "display_name": "igl",
   "language": "python",
   "name": "igl"
  },
  "language_info": {
   "codemirror_mode": {
    "name": "ipython",
    "version": 3
   },
   "file_extension": ".py",
   "mimetype": "text/x-python",
   "name": "python",
   "nbconvert_exporter": "python",
   "pygments_lexer": "ipython3",
   "version": "3.9.8"
  }
 },
 "nbformat": 4,
 "nbformat_minor": 5
}
